{
 "cells": [
  {
   "cell_type": "markdown",
   "metadata": {},
   "source": [
    "# Logistic Regression - Part 2"
   ]
  },
  {
   "cell_type": "code",
   "execution_count": 107,
   "metadata": {},
   "outputs": [
    {
     "name": "stdout",
     "output_type": "stream",
     "text": [
      "The shape of the data is: (118, 3)\n"
     ]
    }
   ],
   "source": [
    "import numpy as np\n",
    "import matplotlib.pyplot as plt\n",
    "\n",
    "datafile = np.loadtxt('machine-learning-ex2/ex2/ex2data2.txt', delimiter=',')\n",
    "\n",
    "print(\"The shape of the data is: {}\".format(datafile.shape))"
   ]
  },
  {
   "cell_type": "code",
   "execution_count": 108,
   "metadata": {},
   "outputs": [
    {
     "name": "stdout",
     "output_type": "stream",
     "text": [
      "(118, 2)\n",
      "(118,)\n"
     ]
    }
   ],
   "source": [
    "X = datafile[:, :2]\n",
    "y = datafile[:, 2]\n",
    "print(X.shape)\n",
    "print(y.shape)"
   ]
  },
  {
   "cell_type": "markdown",
   "metadata": {},
   "source": [
    "### Visualise our training data"
   ]
  },
  {
   "cell_type": "code",
   "execution_count": 109,
   "metadata": {},
   "outputs": [
    {
     "data": {
      "image/png": "[encoded data removed]",
      "text/plain": [
       "<matplotlib.figure.Figure at 0x10ce9df10>"
      ]
     },
     "metadata": {},
     "output_type": "display_data"
    }
   ],
   "source": [
    "# plot training data, showing exam scores that were admitted and not admitted\n",
    "plt.scatter(X[(y==1), 0], X[(y==1), 1], marker='x')\n",
    "plt.scatter(X[(y==0), 0], X[(y==0), 1], marker='o')\n",
    "plt.ylabel(\"Microchip test 1\")\n",
    "plt.xlabel(\"Microchip test 2\")\n",
    "plt.legend([\"y = 1\", \"y = 0\"])\n",
    "plt.show()"
   ]
  },
  {
   "cell_type": "markdown",
   "metadata": {},
   "source": [
    "Clearly we cannot seperate this data using a simple straight line approach. Therefore a simple application of logistic regression will not suffice in this case. To effectively seperate this data, we need to introduce higher order polynomial terms into our training data as new features.\n",
    "\n",
    "A function will be defined below, which transforms our training set from 2 input features to 28 features, with 1 bias term equal to 1, and 27 other columns that are formed using x1 and x2, both alone and combined as products with polynomial terms up to 6.\n",
    "\n",
    "This will provide us with a much more complex decision boundary that appears non-linear in 2 dimensional space, such as on our plot above. Something to be aware of when adding more features is that we can make our model more susceptible to overfitting."
   ]
  },
  {
   "cell_type": "code",
   "execution_count": 110,
   "metadata": {
    "collapsed": true
   },
   "outputs": [],
   "source": [
    "def map_features(x1, x2, polynomial_degree = 6):\n",
    "    \"\"\" Maps two given input features to polynomial features, with polynomial n \"\"\"\n",
    "    # column of 1's for the bias term\n",
    "    out = np.ones((X.shape[0], 1))\n",
    "    for i in range(1, polynomial_degree + 1):\n",
    "        for j in range(i + 1):\n",
    "            # create a new column for each new feature and update out array\n",
    "            feature_column = ((x1**(i-j))*(x2**j))\n",
    "            out = np.column_stack((out, feature_column))\n",
    "    return out"
   ]
  },
  {
   "cell_type": "code",
   "execution_count": 111,
   "metadata": {},
   "outputs": [],
   "source": [
    "X_extra = map_features(X[:, 0], X[:, 1], polynomial_degree = 6)"
   ]
  },
  {
   "cell_type": "code",
   "execution_count": 112,
   "metadata": {
    "collapsed": true
   },
   "outputs": [],
   "source": [
    "def sigmoid(z):\n",
    "    return 1.0 / (1.0 + np.exp(-z))\n",
    "\n",
    "def regularised_log_reg(X, y, theta, alpha, reg_term, iterations):\n",
    "    m = float(y.shape[0])\n",
    "    J_history = []\n",
    "    weights = np.copy(theta)\n",
    "    for epoch in range(iterations):\n",
    "        hx = sigmoid(np.dot(X, weights))\n",
    "        errors = hx - y\n",
    "        cost = (-y.dot(np.log(hx)) - ((1 - y).dot(1 - hx)) / m)\n",
    "        reg_cost = cost + ((1.0 / (2*m)) * (weights[1:]**2).sum())\n",
    "        theta_0_grad = np.dot(X[:, 0], errors) / m\n",
    "        weights[0] -= (alpha * theta_0_grad)\n",
    "        theta_1_grad = (np.dot(X[:, 1:].T, errors)/m) + ((reg_term / m) * weights[1:])\n",
    "        weights[1:] -= alpha * theta_1_grad\n",
    "        J_history.append(reg_cost)\n",
    "    return J_history, weights"
   ]
  },
  {
   "cell_type": "code",
   "execution_count": 113,
   "metadata": {},
   "outputs": [],
   "source": [
    "random_gen = np.random.RandomState(1)\n",
    "theta = random_gen.normal(loc = 0.0, scale = 0.01, size =(X_extra.shape[1]))\n",
    "\n",
    "costs, weights = regularised_log_reg(X_extra, y, theta, alpha = 0.1, reg_term = 1.0, iterations = 2000)"
   ]
  },
  {
   "cell_type": "code",
   "execution_count": 114,
   "metadata": {},
   "outputs": [
    {
     "name": "stdout",
     "output_type": "stream",
     "text": [
      "[26.929650408834313, 26.928957614720808, 26.928265842589543, 26.927575090816777, 26.926885357781597, 26.92619664186597, 26.925508941454712, 26.92482225493545, 26.924136580698683, 26.92345191713769]\n"
     ]
    }
   ],
   "source": [
    "print(costs[-10:])"
   ]
  },
  {
   "cell_type": "code",
   "execution_count": 115,
   "metadata": {},
   "outputs": [
    {
     "data": {
      "image/png": "[encoded data removed]",
      "text/plain": [
       "<matplotlib.figure.Figure at 0x10d35c690>"
      ]
     },
     "metadata": {},
     "output_type": "display_data"
    }
   ],
   "source": [
    "plt.figure()\n",
    "plt.plot(range(1, len(costs) + 1), costs)\n",
    "plt.title(\"Logistic Regression GD Classifier\")\n",
    "plt.ylabel(\"Cost\")\n",
    "plt.xlabel(\"Training iterations (Epochs)\")\n",
    "plt.show()"
   ]
  },
  {
   "cell_type": "code",
   "execution_count": 116,
   "metadata": {},
   "outputs": [
    {
     "name": "stdout",
     "output_type": "stream",
     "text": [
      "39.69887066890328\n"
     ]
    },
    {
     "ename": "ValueError",
     "evalue": "setting an array element with a sequence.",
     "output_type": "error",
     "traceback": [
      "\u001b[0;31m---------------------------------------------------------------------------\u001b[0m",
      "\u001b[0;31mValueError\u001b[0m                                Traceback (most recent call last)",
      "\u001b[0;32m<ipython-input-116-37178206ae2c>\u001b[0m in \u001b[0;36m<module>\u001b[0;34m()\u001b[0m\n\u001b[1;32m      7\u001b[0m \u001b[0;34m\u001b[0m\u001b[0m\n\u001b[1;32m      8\u001b[0m \u001b[0mtheta_0_grad\u001b[0m \u001b[0;34m=\u001b[0m \u001b[0;34m(\u001b[0m\u001b[0mX_extra\u001b[0m\u001b[0;34m[\u001b[0m\u001b[0;34m:\u001b[0m\u001b[0;34m,\u001b[0m \u001b[0;36m0\u001b[0m\u001b[0;34m]\u001b[0m\u001b[0;34m.\u001b[0m\u001b[0mdot\u001b[0m\u001b[0;34m(\u001b[0m\u001b[0merrors\u001b[0m\u001b[0;34m)\u001b[0m \u001b[0;34m/\u001b[0m \u001b[0mm\u001b[0m\u001b[0;34m)\u001b[0m\u001b[0;34m\u001b[0m\u001b[0m\n\u001b[0;32m----> 9\u001b[0;31m \u001b[0mtheta\u001b[0m\u001b[0;34m[\u001b[0m\u001b[0;36m0\u001b[0m\u001b[0;34m]\u001b[0m \u001b[0;34m-=\u001b[0m \u001b[0;34m(\u001b[0m\u001b[0;36m0.01\u001b[0m \u001b[0;34m*\u001b[0m \u001b[0mtheta_0_grad\u001b[0m\u001b[0;34m)\u001b[0m\u001b[0;34m\u001b[0m\u001b[0m\n\u001b[0m\u001b[1;32m     10\u001b[0m \u001b[0;32mprint\u001b[0m\u001b[0;34m(\u001b[0m\u001b[0mtheta_0_grad\u001b[0m\u001b[0;34m)\u001b[0m\u001b[0;34m\u001b[0m\u001b[0m\n\u001b[1;32m     11\u001b[0m \u001b[0;34m\u001b[0m\u001b[0m\n",
      "\u001b[0;31mValueError\u001b[0m: setting an array element with a sequence."
     ]
    }
   ],
   "source": [
    "m = float(X_extra.shape[0])\n",
    "hx = sigmoid(np.dot(X_extra, theta))\n",
    "errors = hx - y.reshape(118, 1)\n",
    "cost = (-y.T.dot(np.log(hx)) - ((1 - y).T.dot(1 - hx)) / m)\n",
    "reg_cost = cost + ((1.0 / (2*m)) * (theta[1:]**2).sum())\n",
    "print(reg_cost)\n",
    "\n",
    "theta_0_grad = (X_extra[:, 0].dot(errors) / m)\n",
    "theta[0] -= (0.01 * theta_0_grad)\n",
    "print(theta_0_grad)\n",
    "\n",
    "theta_1_grad = theta_0_grad + ((0.01 / m) * theta[1:])\n",
    "print(theta_1_grad)\n",
    "print(theta_1_grad.shape)\n",
    "theta[1:] -= 0.01 * theta_1_grad\n",
    "print(theta.shape)\n",
    "\n",
    "#J_history.append(reg_cost)"
   ]
  },
  {
   "cell_type": "markdown",
   "metadata": {
    "collapsed": true
   },
   "source": [
    "---\n",
    "### Alternative solution using scipy optimise function (analogous to fminunc in octave)"
   ]
  },
  {
   "cell_type": "code",
   "execution_count": 8,
   "metadata": {
    "collapsed": true
   },
   "outputs": [],
   "source": [
    "import matplotlib.pyplot as plt\n",
    "import numpy as np\n",
    "import scipy.optimize as op\n",
    "\n",
    "def Sigmoid(z):\n",
    "    return 1/(1 + np.exp(-z))\n",
    "\n",
    "def Gradient(theta, x, y, reg_term):\n",
    "    m , n = x.shape\n",
    "    theta = theta.reshape((n,1))\n",
    "    y = y.reshape((m,1))\n",
    "    sigmoid_x_theta = Sigmoid(x.dot(theta))\n",
    "    grad = ((x.T).dot(sigmoid_x_theta-y)) / m\n",
    "    reg_term = (reg_term / m) * theta\n",
    "    grad[1:] += reg_term[1:]\n",
    "    return grad.flatten()\n",
    "\n",
    "def Logistic_cost(theta,x,y, reg_term):\n",
    "    m , n = x.shape\n",
    "    theta = theta.reshape((n,1))\n",
    "    y = y.reshape((m,1))\n",
    "    term1 = np.log(Sigmoid(x.dot(theta)))\n",
    "    term2 = np.log(1-Sigmoid(x.dot(theta)))\n",
    "    term1 = term1.reshape((m,1))\n",
    "    term2 = term2.reshape((m,1))\n",
    "    term = y * term1 + (1 - y) * term2\n",
    "    reg_term = ((reg_term / (2*m)) * (theta**2).sum())\n",
    "    cost = -((np.sum(term))/m) + reg_term\n",
    "    return cost\n",
    "\n",
    "def map_features(x1, x2, polynomial_degree = 6):\n",
    "    \"\"\" Maps two given input features to polynomial features, with polynomial n \"\"\"\n",
    "    # column of 1's for the bias term\n",
    "    out = np.ones((X.shape[0], 1))\n",
    "    for i in range(1, polynomial_degree + 1):\n",
    "        for j in range(i + 1):\n",
    "            # create a new column for each new feature and update out array\n",
    "            feature_column = ((x1**(i-j))*(x2**j))\n",
    "            out = np.column_stack((out, feature_column))\n",
    "    return out"
   ]
  },
  {
   "cell_type": "code",
   "execution_count": 17,
   "metadata": {
    "collapsed": true
   },
   "outputs": [],
   "source": [
    "datafile = np.loadtxt('machine-learning-ex2/ex2/ex2data2.txt', delimiter=',')\n",
    "X = datafile[:, :2]\n",
    "y = datafile[:, 2]\n",
    "\n",
    "X = map_features(X[:, 0], X[:, 1], polynomial_degree = 6)\n",
    "\n",
    "random_gen = np.random.RandomState(1)\n",
    "initial_theta = random_gen.normal(loc = 0.0, scale = 0.01, size =(X.shape[1], 1))\n",
    "\n",
    "reg_term = 1.0\n",
    "\n",
    "Result = op.minimize(fun = Logistic_cost, \n",
    "                     x0 = initial_theta, \n",
    "                     args = (X, y, reg_term),\n",
    "                     method = 'TNC',\n",
    "                     jac = Gradient)\n",
    "            \n",
    "optimal_theta = Result.x\n",
    "costs = Result.fun"
   ]
  },
  {
   "cell_type": "code",
   "execution_count": 24,
   "metadata": {},
   "outputs": [
    {
     "name": "stdout",
     "output_type": "stream",
     "text": [
      "The success status of the optimiser is: False\n",
      "\n",
      "\n",
      "Status message: 4\n",
      "\n",
      "\n",
      "The optimal theta parameters found were:\n",
      "\n",
      " [ 1.25404056  0.62657328  1.19141197 -2.00467162 -0.88517492 -1.36538778\n",
      "  0.13297822 -0.35837142 -0.35873344 -0.16726372 -1.46028036 -0.0762789\n",
      " -0.6090692  -0.25768212 -1.17572155 -0.22816687 -0.20721968 -0.06540383\n",
      " -0.2691792  -0.27956494 -0.471993   -1.03586618  0.01403281 -0.29357352\n",
      "  0.00498236 -0.32471148 -0.12537935 -0.93479802]\n"
     ]
    }
   ],
   "source": [
    "print(\"The success status of the optimiser is: {}\\n\\n\".format(Result.success))\n",
    "\n",
    "print(\"Status message: {}\\n\\n\".format(Result.status))\n",
    "\n",
    "print(\"The optimal theta parameters found were:\\n\\n {}\".format(optimal_theta))"
   ]
  },
  {
   "cell_type": "code",
   "execution_count": 19,
   "metadata": {},
   "outputs": [
    {
     "name": "stdout",
     "output_type": "stream",
     "text": [
      "The final value of the cost function was:\n",
      "\n",
      " 0.535758569354\n"
     ]
    }
   ],
   "source": [
    "print(\"The final value of the cost function was:\\n\\n {}\".format(Result.fun))"
   ]
  },
  {
   "cell_type": "code",
   "execution_count": 22,
   "metadata": {},
   "outputs": [
    {
     "name": "stdout",
     "output_type": "stream",
     "text": [
      "The number of iterations taken to achieve this was: \n",
      "\n",
      " 54\n"
     ]
    }
   ],
   "source": [
    "print(\"The number of iterations taken to achieve this was: \\n\\n {}\".format(Result.nfev))"
   ]
  },
  {
   "cell_type": "code",
   "execution_count": null,
   "metadata": {
    "collapsed": true
   },
   "outputs": [],
   "source": []
  }
 ],
 "metadata": {
  "kernelspec": {
   "display_name": "Python 2",
   "language": "python",
   "name": "python2"
  },
  "language_info": {
   "codemirror_mode": {
    "name": "ipython",
    "version": 2
   },
   "file_extension": ".py",
   "mimetype": "text/x-python",
   "name": "python",
   "nbconvert_exporter": "python",
   "pygments_lexer": "ipython2",
   "version": "2.7.13"
  }
 },
 "nbformat": 4,
 "nbformat_minor": 2
}
