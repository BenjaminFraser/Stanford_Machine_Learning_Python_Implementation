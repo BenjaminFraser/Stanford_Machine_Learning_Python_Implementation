{
 "cells": [
  {
   "cell_type": "code",
   "execution_count": 2,
   "metadata": {
    "collapsed": true
   },
   "outputs": [],
   "source": [
    "import matplotlib.pyplot as plt\n",
    "import numpy as np\n",
    "import pandas as pd"
   ]
  },
  {
   "cell_type": "code",
   "execution_count": 3,
   "metadata": {
    "collapsed": true
   },
   "outputs": [],
   "source": [
    "# df = pd.read_csv('machine-learning-ex1/ex1/ex1data1.txt')"
   ]
  },
  {
   "cell_type": "code",
   "execution_count": 5,
   "metadata": {},
   "outputs": [
    {
     "name": "stdout",
     "output_type": "stream",
     "text": [
      "The shape of the data is: (97, 2)\n",
      "(97,)\n"
     ]
    }
   ],
   "source": [
    "datafile = np.loadtxt('machine-learning-ex1/ex1/ex1data1.txt', delimiter=',')\n",
    "\n",
    "print(\"The shape of the data is: {}\".format(datafile.shape))\n",
    "\n",
    "X = datafile[:, 0]\n",
    "y = datafile[:, 1]\n",
    "m = X.shape[0]\n",
    "\n",
    "np.reshape(X, (len(X), ))\n",
    "\n",
    "print(X.shape)"
   ]
  },
  {
   "cell_type": "code",
   "execution_count": 200,
   "metadata": {},
   "outputs": [
    {
     "data": {
      "image/png": "[encoded data removed]",
      "text/plain": [
       "<matplotlib.figure.Figure at 0x10b96dbd0>"
      ]
     },
     "metadata": {},
     "output_type": "display_data"
    }
   ],
   "source": [
    "plt.scatter(X, y, marker='x')\n",
    "plt.ylabel(\"Profit in $10,000s\")\n",
    "plt.xlabel(\"Population of city in 10,000s\")\n",
    "plt.show()"
   ]
  },
  {
   "cell_type": "code",
   "execution_count": 201,
   "metadata": {
    "collapsed": true
   },
   "outputs": [],
   "source": [
    "# add a column of 1's to the training data for the bias unit\n",
    "bias = np.ones((m, 1))\n",
    "X = np.column_stack((bias, X))"
   ]
  },
  {
   "cell_type": "code",
   "execution_count": 202,
   "metadata": {},
   "outputs": [
    {
     "data": {
      "text/plain": [
       "array([[1.    , 6.1101],\n",
       "       [1.    , 5.5277],\n",
       "       [1.    , 8.5186],\n",
       "       [1.    , 7.0032],\n",
       "       [1.    , 5.8598]])"
      ]
     },
     "execution_count": 202,
     "metadata": {},
     "output_type": "execute_result"
    }
   ],
   "source": [
    "X[:5]"
   ]
  },
  {
   "cell_type": "code",
   "execution_count": 270,
   "metadata": {},
   "outputs": [
    {
     "ename": "IndexError",
     "evalue": "tuple index out of range",
     "output_type": "error",
     "traceback": [
      "\u001b[0;31m---------------------------------------------------------------------------\u001b[0m",
      "\u001b[0;31mIndexError\u001b[0m                                Traceback (most recent call last)",
      "\u001b[0;32m<ipython-input-270-0a1f2f366aa3>\u001b[0m in \u001b[0;36m<module>\u001b[0;34m()\u001b[0m\n\u001b[1;32m      1\u001b[0m \u001b[0mrandom_gen\u001b[0m \u001b[0;34m=\u001b[0m \u001b[0mnp\u001b[0m\u001b[0;34m.\u001b[0m\u001b[0mrandom\u001b[0m\u001b[0;34m.\u001b[0m\u001b[0mRandomState\u001b[0m\u001b[0;34m(\u001b[0m\u001b[0;36m1\u001b[0m\u001b[0;34m)\u001b[0m\u001b[0;34m\u001b[0m\u001b[0m\n\u001b[0;32m----> 2\u001b[0;31m \u001b[0mtheta\u001b[0m \u001b[0;34m=\u001b[0m \u001b[0mrandom_gen\u001b[0m\u001b[0;34m.\u001b[0m\u001b[0mnormal\u001b[0m\u001b[0;34m(\u001b[0m\u001b[0mloc\u001b[0m \u001b[0;34m=\u001b[0m \u001b[0;36m0.0\u001b[0m\u001b[0;34m,\u001b[0m \u001b[0mscale\u001b[0m \u001b[0;34m=\u001b[0m \u001b[0;36m0.01\u001b[0m\u001b[0;34m,\u001b[0m \u001b[0msize\u001b[0m \u001b[0;34m=\u001b[0m\u001b[0;34m(\u001b[0m\u001b[0mX\u001b[0m\u001b[0;34m.\u001b[0m\u001b[0mshape\u001b[0m\u001b[0;34m[\u001b[0m\u001b[0;36m1\u001b[0m\u001b[0;34m]\u001b[0m\u001b[0;34m,\u001b[0m\u001b[0;34m)\u001b[0m\u001b[0;34m)\u001b[0m\u001b[0;34m\u001b[0m\u001b[0m\n\u001b[0m\u001b[1;32m      3\u001b[0m \u001b[0;34m\u001b[0m\u001b[0m\n\u001b[1;32m      4\u001b[0m \u001b[0malpha\u001b[0m \u001b[0;34m=\u001b[0m \u001b[0;36m0.01\u001b[0m\u001b[0;34m\u001b[0m\u001b[0m\n\u001b[1;32m      5\u001b[0m \u001b[0miterations\u001b[0m \u001b[0;34m=\u001b[0m \u001b[0;36m1500\u001b[0m\u001b[0;34m\u001b[0m\u001b[0m\n",
      "\u001b[0;31mIndexError\u001b[0m: tuple index out of range"
     ]
    }
   ],
   "source": [
    "random_gen = np.random.RandomState(1)\n",
    "theta = random_gen.normal(loc = 0.0, scale = 0.01, size =(X.shape[1],))\n",
    "\n",
    "alpha = 0.01\n",
    "iterations = 1500"
   ]
  },
  {
   "cell_type": "markdown",
   "metadata": {},
   "source": [
    "### Computing the cost"
   ]
  },
  {
   "cell_type": "code",
   "execution_count": 182,
   "metadata": {
    "collapsed": true
   },
   "outputs": [],
   "source": [
    "def cost(X, y, theta):\n",
    "    total = 0\n",
    "    for xi, target in zip(X, y):\n",
    "        sq_error = (hypothesis(xi, theta) - target)**2\n",
    "        total += sq_error\n",
    "    cost = float(total) / (2*len(y))\n",
    "    return cost\n",
    "    \n",
    "def hypothesis(xi, theta):\n",
    "    return np.dot(xi, theta)"
   ]
  },
  {
   "cell_type": "code",
   "execution_count": 183,
   "metadata": {},
   "outputs": [
    {
     "name": "stdout",
     "output_type": "stream",
     "text": [
      "32.3783839234\n"
     ]
    }
   ],
   "source": [
    "print(cost(X, y, theta))"
   ]
  },
  {
   "cell_type": "markdown",
   "metadata": {},
   "source": [
    "### Applying gradient descent"
   ]
  },
  {
   "cell_type": "code",
   "execution_count": 272,
   "metadata": {
    "collapsed": true
   },
   "outputs": [],
   "source": [
    "def gradient_descent(X, y, theta, alpha, iterations):\n",
    "    J_history = []\n",
    "    m = float(len(y))\n",
    "    weights = theta[:]\n",
    "    for iteration in range(iterations):\n",
    "        hx = np.dot(X, weights)\n",
    "        errors = hx - y\n",
    "        weights -= (alpha/m) * X.T.dot(errors)\n",
    "        cost = ((errors**2).sum()) / (2*m)\n",
    "        J_history.append(cost)\n",
    "    return J_history, weights"
   ]
  },
  {
   "cell_type": "code",
   "execution_count": 191,
   "metadata": {},
   "outputs": [
    {
     "name": "stdout",
     "output_type": "stream",
     "text": [
      "Weights found by gradient descent: [-3.87797674  1.19124503]\n",
      "\n",
      "Expected weights from Andrew Ng's R model: [-3.6303 1.1664]\n"
     ]
    }
   ],
   "source": [
    "costs = []\n",
    "costs, weights = gradient_descent(X, y, theta, alpha=0.01, iterations=1000)\n",
    "\n",
    "print(\"Weights found by gradient descent: {0}\".format(weights))\n",
    "\n",
    "print(\"\\nExpected weights from Andrew Ng's R model: [-3.6303 1.1664]\")"
   ]
  },
  {
   "cell_type": "code",
   "execution_count": 192,
   "metadata": {},
   "outputs": [
    {
     "data": {
      "image/png": "[encoded data removed]",
      "text/plain": [
       "<matplotlib.figure.Figure at 0x10bf81310>"
      ]
     },
     "metadata": {},
     "output_type": "display_data"
    }
   ],
   "source": [
    "plt.figure()\n",
    "plt.plot(range(1, len(costs) + 1), costs)\n",
    "plt.ylabel(\"Cost\")\n",
    "plt.xlabel(\"Training iterations (Epochs)\")\n",
    "plt.show()"
   ]
  },
  {
   "cell_type": "markdown",
   "metadata": {},
   "source": [
    "Success! The cost appears to correctly decrease with increasing training iterations."
   ]
  },
  {
   "cell_type": "markdown",
   "metadata": {},
   "source": [
    "### Lets visualise the linear fit on our original training data:"
   ]
  },
  {
   "cell_type": "code",
   "execution_count": 219,
   "metadata": {},
   "outputs": [
    {
     "data": {
      "image/png": "[encoded data removed]",
      "text/plain": [
       "<matplotlib.figure.Figure at 0x10b2cb190>"
      ]
     },
     "metadata": {},
     "output_type": "display_data"
    }
   ],
   "source": [
    "plt.figure()\n",
    "plt.scatter(X[:, 1], y, marker='x')\n",
    "plt.ylabel(\"Profit in $10,000s\")\n",
    "plt.xlabel(\"Population of city in 10,000s\")\n",
    "plt.plot(X[:, 1], (X*weights)[:, 1], c='r')\n",
    "plt.legend([\"Linear regression\", \"Training data\"])\n",
    "plt.show()"
   ]
  },
  {
   "cell_type": "markdown",
   "metadata": {},
   "source": [
    "### We can also make some predictions for profits using our linear regression model:"
   ]
  },
  {
   "cell_type": "code",
   "execution_count": 222,
   "metadata": {},
   "outputs": [
    {
     "data": {
      "image/png": "[encoded data removed]",
      "text/plain": [
       "<matplotlib.figure.Figure at 0x10bd7b190>"
      ]
     },
     "metadata": {},
     "output_type": "display_data"
    }
   ],
   "source": [
    "# make predictions for population sizes 70,000 and 100,000 \n",
    "populations = np.array([[1, 7.0], [1, 10.0]])\n",
    "predictions = populations * weights\n",
    "\n",
    "# plot original plus new predictions\n",
    "plt.figure()\n",
    "plt.scatter(X[:, 1], y, marker='x')\n",
    "plt.ylabel(\"Profit in $10,000s\")\n",
    "plt.xlabel(\"Population of city in 10,000s\")\n",
    "plt.plot(X[:, 1], (X*weights)[:, 1], c='b')\n",
    "plt.scatter(populations[:, 1], predictions[:, 1], c='r', marker='o')\n",
    "plt.legend([\"Linear regression\", \"Training data\", \"Predictions\"])\n",
    "plt.show()"
   ]
  },
  {
   "cell_type": "markdown",
   "metadata": {},
   "source": [
    "As can be seen, the predicted points are shown precisely on the linear regression line."
   ]
  },
  {
   "cell_type": "markdown",
   "metadata": {},
   "source": [
    "### Rough working with matrices and dot products to help get my head round the calculations determined within gradient descent"
   ]
  },
  {
   "cell_type": "code",
   "execution_count": 13,
   "metadata": {},
   "outputs": [
    {
     "name": "stdout",
     "output_type": "stream",
     "text": [
      "[ -5.69662541 -63.72347125]\n"
     ]
    }
   ],
   "source": [
    "# tests for confirmation\n",
    "for xi, target in zip(X, y):\n",
    "    print(np.dot(theta.T, xi))\n",
    "\n",
    "# calculating the matrix-vector multiplication between our feature matrix and error vector\n",
    "print(X.T.dot(np.dot(X, theta) - y) * 0.01)"
   ]
  },
  {
   "cell_type": "code",
   "execution_count": 27,
   "metadata": {},
   "outputs": [
    {
     "name": "stdout",
     "output_type": "stream",
     "text": [
      "[-0.02113547 -0.01757261 -0.03586963 -0.02659907 -0.01960425 -0.03503947\n",
      " -0.0294939  -0.03623362 -0.02343629 -0.01467839 -0.01869212 -0.07040572\n",
      " -0.01883466 -0.03519547 -0.01826389 -0.01666537 -0.02269729 -0.01514026\n",
      " -0.02309004 -0.02701262 -0.02161876 -0.10775957 -0.01734259 -0.02245687\n",
      " -0.01780018 -0.0996538  -0.06223266 -0.0507867  -0.06436157 -0.11958482\n",
      " -0.01588844 -0.02406762 -0.040333   -0.01980001 -0.03398848 -0.03228963\n",
      " -0.03328373 -0.01805345 -0.0622816  -0.02262388 -0.0168336  -0.02586068\n",
      " -0.05538099 -0.01907753 -0.03162465 -0.02714904 -0.01477382 -0.01924698\n",
      " -0.05533205 -0.01765764 -0.0298842  -0.01622674 -0.02917273 -0.030269\n",
      " -0.02249786 -0.02265752 -0.02213937 -0.01825777 -0.04071229 -0.04158955\n",
      " -0.0377465  -0.01544125 -0.11393219 -0.07495719 -0.09973944 -0.02791435\n",
      " -0.03450235 -0.04637593 -0.01739948 -0.10819392 -0.04576418 -0.02862582\n",
      " -0.02049986 -0.02796145 -0.01450893 -0.02381374 -0.02987442 -0.01456766\n",
      " -0.0466084  -0.01500323 -0.01880529 -0.01549692 -0.02263795 -0.0435172\n",
      " -0.02361798 -0.03586106 -0.03991701 -0.02047417 -0.01752795 -0.01470775\n",
      " -0.01867377 -0.03047394 -0.01967093 -0.01621267 -0.03449195 -0.0656952\n",
      " -0.01701713]\n"
     ]
    }
   ],
   "source": [
    "print(np.dot(X,theta))"
   ]
  },
  {
   "cell_type": "code",
   "execution_count": 16,
   "metadata": {},
   "outputs": [
    {
     "name": "stdout",
     "output_type": "stream",
     "text": [
      "[[ 1.      1.      1.      1.      1.      1.      1.      1.      1.\n",
      "   1.      1.      1.      1.      1.      1.      1.      1.      1.\n",
      "   1.      1.      1.      1.      1.      1.      1.      1.      1.\n",
      "   1.      1.      1.      1.      1.      1.      1.      1.      1.\n",
      "   1.      1.      1.      1.      1.      1.      1.      1.      1.\n",
      "   1.      1.      1.      1.      1.      1.      1.      1.      1.\n",
      "   1.      1.      1.      1.      1.      1.      1.      1.      1.\n",
      "   1.      1.      1.      1.      1.      1.      1.      1.      1.\n",
      "   1.      1.      1.      1.      1.      1.      1.      1.      1.\n",
      "   1.      1.      1.      1.      1.      1.      1.      1.      1.\n",
      "   1.      1.      1.      1.      1.      1.      1.    ]\n",
      " [ 6.1101  5.5277  8.5186  7.0032  5.8598  8.3829  7.4764  8.5781  6.4862\n",
      "   5.0546  5.7107 14.164   5.734   8.4084  5.6407  5.3794  6.3654  5.1301\n",
      "   6.4296  7.0708  6.1891 20.27    5.4901  6.3261  5.5649 18.945  12.828\n",
      "  10.957  13.176  22.203   5.2524  6.5894  9.2482  5.8918  8.2111  7.9334\n",
      "   8.0959  5.6063 12.836   6.3534  5.4069  6.8825 11.708   5.7737  7.8247\n",
      "   7.0931  5.0702  5.8014 11.7     5.5416  7.5402  5.3077  7.4239  7.6031\n",
      "   6.3328  6.3589  6.2742  5.6397  9.3102  9.4536  8.8254  5.1793 21.279\n",
      "  14.908  18.959   7.2182  8.2951 10.236   5.4994 20.341  10.136   7.3345\n",
      "   6.0062  7.2259  5.0269  6.5479  7.5386  5.0365 10.274   5.1077  5.7292\n",
      "   5.1884  6.3557  9.7687  6.5159  8.5172  9.1802  6.002   5.5204  5.0594\n",
      "   5.7077  7.6366  5.8707  5.3054  8.2934 13.394   5.4369]]\n"
     ]
    }
   ],
   "source": [
    "print(X.T)"
   ]
  },
  {
   "cell_type": "code",
   "execution_count": 18,
   "metadata": {},
   "outputs": [
    {
     "name": "stdout",
     "output_type": "stream",
     "text": [
      "[ -569.66254068 -6372.34712461]\n"
     ]
    }
   ],
   "source": [
    "print(X.T.dot(np.dot(X,theta) - y))"
   ]
  },
  {
   "cell_type": "code",
   "execution_count": 24,
   "metadata": {
    "collapsed": true
   },
   "outputs": [],
   "source": [
    "array_1 = np.array([[1, 2, 3, 4, 5], [2, 3, 4, 5, 6]])"
   ]
  },
  {
   "cell_type": "code",
   "execution_count": 25,
   "metadata": {
    "collapsed": true
   },
   "outputs": [],
   "source": [
    "array_2 = np.array([2, 2, 2, 2, 2])"
   ]
  },
  {
   "cell_type": "code",
   "execution_count": 26,
   "metadata": {},
   "outputs": [
    {
     "data": {
      "text/plain": [
       "array([30, 40])"
      ]
     },
     "execution_count": 26,
     "metadata": {},
     "output_type": "execute_result"
    }
   ],
   "source": [
    "array_1.dot(array_2)"
   ]
  },
  {
   "cell_type": "markdown",
   "metadata": {},
   "source": [
    "### Testing of the models on the second dataset - multivariate linear regression"
   ]
  },
  {
   "cell_type": "code",
   "execution_count": 273,
   "metadata": {},
   "outputs": [
    {
     "name": "stdout",
     "output_type": "stream",
     "text": [
      "The shape of the data is: (47, 3)\n"
     ]
    }
   ],
   "source": [
    "datafile = np.loadtxt('machine-learning-ex1/ex1/ex1data2.txt', delimiter=',')\n",
    "\n",
    "print(\"The shape of the data is: {}\".format(datafile.shape))\n",
    "\n",
    "X = datafile[:, :2]\n",
    "y = datafile[:, 2]\n",
    "m = X.shape[0]"
   ]
  },
  {
   "cell_type": "code",
   "execution_count": 274,
   "metadata": {},
   "outputs": [
    {
     "name": "stdout",
     "output_type": "stream",
     "text": [
      "[[2.104e+03 3.000e+00]\n",
      " [1.600e+03 3.000e+00]\n",
      " [2.400e+03 3.000e+00]\n",
      " [1.416e+03 2.000e+00]\n",
      " [3.000e+03 4.000e+00]]\n",
      "[399900. 329900. 369000. 232000. 539900.]\n",
      "[2000.68085106    3.17021277]\n"
     ]
    }
   ],
   "source": [
    "print(X[:5])\n",
    "print(y[:5])\n",
    "print(np.mean(X, axis=0))"
   ]
  },
  {
   "cell_type": "code",
   "execution_count": 275,
   "metadata": {
    "collapsed": true
   },
   "outputs": [],
   "source": [
    "def feature_normalise(X):\n",
    "    X_norm = (X - np.mean(X, axis=0)) / np.std(X, axis = 0)\n",
    "    return X_norm"
   ]
  },
  {
   "cell_type": "code",
   "execution_count": 276,
   "metadata": {
    "collapsed": true
   },
   "outputs": [],
   "source": [
    "X_std = feature_normalise(X)"
   ]
  },
  {
   "cell_type": "code",
   "execution_count": 280,
   "metadata": {
    "collapsed": true
   },
   "outputs": [],
   "source": [
    "# add a column of 1's to the training data for the bias unit\n",
    "bias = np.ones((m, 1))\n",
    "X_std = np.column_stack((bias, X_std))\n",
    "\n",
    "random_gen = np.random.RandomState(1)\n",
    "theta = random_gen.normal(loc = 0.0, scale = 0.01, size =(X.shape[1],))\n",
    "\n",
    "alpha = 0.01\n",
    "iterations = 1500"
   ]
  },
  {
   "cell_type": "code",
   "execution_count": 283,
   "metadata": {},
   "outputs": [
    {
     "name": "stdout",
     "output_type": "stream",
     "text": [
      "Weights found by gradient descent: [1.54572513e+72 2.23253955e+69]\n"
     ]
    }
   ],
   "source": [
    "costs, weights = gradient_descent(X, y, theta, alpha=0.01, iterations=5)\n",
    "\n",
    "print(\"Weights found by gradient descent: {0}\".format(weights))"
   ]
  },
  {
   "cell_type": "code",
   "execution_count": 284,
   "metadata": {},
   "outputs": [
    {
     "data": {
      "image/png": "[encoded data removed]",
      "text/plain": [
       "<matplotlib.figure.Figure at 0x10badbe10>"
      ]
     },
     "metadata": {},
     "output_type": "display_data"
    }
   ],
   "source": [
    "plt.figure()\n",
    "plt.plot(range(1, len(costs) + 1), costs)\n",
    "plt.ylabel(\"Cost\")\n",
    "plt.xlabel(\"Training iterations (Epochs)\")\n",
    "plt.show()"
   ]
  },
  {
   "cell_type": "markdown",
   "metadata": {
    "collapsed": true
   },
   "source": [
    "--- \n",
    "# Normal equation method"
   ]
  },
  {
   "cell_type": "markdown",
   "metadata": {},
   "source": [
    "This method has the advantage of not requiring any standardisation of "
   ]
  },
  {
   "cell_type": "code",
   "execution_count": 9,
   "metadata": {},
   "outputs": [
    {
     "name": "stdout",
     "output_type": "stream",
     "text": [
      "The shape of the data is: (97, 2)\n"
     ]
    }
   ],
   "source": [
    "import matplotlib.pyplot as plt\n",
    "import numpy as np\n",
    "import pandas as pd\n",
    "\n",
    "datafile = np.loadtxt('machine-learning-ex1/ex1/ex1data1.txt', delimiter=',')\n",
    "\n",
    "print(\"The shape of the data is: {}\".format(datafile.shape))\n",
    "\n",
    "X = datafile[:, 0]\n",
    "y = datafile[:, 1]\n",
    "m = X.shape[0]\n",
    "\n",
    "# add a column of 1's to the training data for the bias unit\n",
    "bias = np.ones((m, 1))\n",
    "X = np.column_stack((bias, X))"
   ]
  },
  {
   "cell_type": "code",
   "execution_count": 10,
   "metadata": {
    "collapsed": true
   },
   "outputs": [],
   "source": [
    "def normal_equation(X, y):\n",
    "    inner_prod = np.dot(X.T, X) \n",
    "    prod_inv = np.linalg.inv(inner_prod)\n",
    "    prod = np.dot(prod_inv, X.T)\n",
    "    theta = np.dot(prod, y)\n",
    "    return theta"
   ]
  },
  {
   "cell_type": "code",
   "execution_count": 11,
   "metadata": {},
   "outputs": [
    {
     "name": "stdout",
     "output_type": "stream",
     "text": [
      "Weights found by normal equation: [-3.89578088  1.19303364]\n",
      "\n",
      "Expected weights from Andrew Ng's R model: [-3.6303 1.1664]\n"
     ]
    }
   ],
   "source": [
    "theta = normal_equation(X, y)\n",
    "\n",
    "print(\"Weights found by normal equation: {0}\".format(theta))\n",
    "\n",
    "print(\"\\nExpected weights from Andrew Ng's R model: [-3.6303 1.1664]\")"
   ]
  },
  {
   "cell_type": "code",
   "execution_count": 15,
   "metadata": {},
   "outputs": [
    {
     "data": {
      "image/png": "[encoded data removed]",
      "text/plain": [
       "<matplotlib.figure.Figure at 0x111e9dd10>"
      ]
     },
     "metadata": {},
     "output_type": "display_data"
    }
   ],
   "source": [
    "plt.scatter(X[:, 1], y, marker='x')\n",
    "plt.plot(X[:, 1], (X*theta)[:, 1], c='r')\n",
    "plt.ylabel(\"Profit in $10,000s\")\n",
    "plt.xlabel(\"Population of city in 10,000s\")\n",
    "plt.legend([\"Training data\", \"Regression line\"])\n",
    "plt.show()"
   ]
  },
  {
   "cell_type": "markdown",
   "metadata": {},
   "source": [
    "As we can see, this line almost exactly matches that from the previous linear regression obtained using gradient descent."
   ]
  },
  {
   "cell_type": "code",
   "execution_count": 18,
   "metadata": {
    "collapsed": true
   },
   "outputs": [],
   "source": [
    "def check(x, position):\n",
    "    if x != position and x > position:\n",
    "        while x != position:\n",
    "            position += 1\n",
    "            print(position)\n",
    "            \n",
    "    elif x != position and x < position:\n",
    "        while x != position:\n",
    "            position -= 1\n",
    "            print(position)\n",
    "    \n",
    "    else:\n",
    "        print(\"Position is already at the chosen location!\")"
   ]
  },
  {
   "cell_type": "code",
   "execution_count": 19,
   "metadata": {},
   "outputs": [
    {
     "name": "stdout",
     "output_type": "stream",
     "text": [
      "4\n",
      "5\n",
      "6\n",
      "7\n",
      "8\n",
      "9\n",
      "10\n",
      "11\n",
      "12\n"
     ]
    }
   ],
   "source": [
    "check(12, 3)"
   ]
  },
  {
   "cell_type": "code",
   "execution_count": 20,
   "metadata": {},
   "outputs": [
    {
     "name": "stdout",
     "output_type": "stream",
     "text": [
      "6\n",
      "5\n",
      "4\n",
      "3\n"
     ]
    }
   ],
   "source": [
    "check(3, 7)"
   ]
  },
  {
   "cell_type": "code",
   "execution_count": 24,
   "metadata": {},
   "outputs": [
    {
     "name": "stdout",
     "output_type": "stream",
     "text": [
      "Position is already at the chosen location!\n"
     ]
    }
   ],
   "source": [
    "check(7, 7)"
   ]
  },
  {
   "cell_type": "code",
   "execution_count": 25,
   "metadata": {},
   "outputs": [
    {
     "name": "stdout",
     "output_type": "stream",
     "text": [
      "3\n",
      "2\n",
      "1\n",
      "0\n",
      "-1\n",
      "-2\n",
      "-3\n"
     ]
    }
   ],
   "source": [
    "check(-3, 4)"
   ]
  },
  {
   "cell_type": "code",
   "execution_count": null,
   "metadata": {
    "collapsed": true
   },
   "outputs": [],
   "source": []
  }
 ],
 "metadata": {
  "kernelspec": {
   "display_name": "Python 2",
   "language": "python",
   "name": "python2"
  },
  "language_info": {
   "codemirror_mode": {
    "name": "ipython",
    "version": 2
   },
   "file_extension": ".py",
   "mimetype": "text/x-python",
   "name": "python",
   "nbconvert_exporter": "python",
   "pygments_lexer": "ipython2",
   "version": "2.7.13"
  }
 },
 "nbformat": 4,
 "nbformat_minor": 2
}
