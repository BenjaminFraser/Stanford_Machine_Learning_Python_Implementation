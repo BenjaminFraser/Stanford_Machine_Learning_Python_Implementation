{
 "cells": [
  {
   "cell_type": "code",
   "execution_count": 33,
   "metadata": {},
   "outputs": [
    {
     "name": "stdout",
     "output_type": "stream",
     "text": [
      "The shape of the data is: (100, 3)\n"
     ]
    }
   ],
   "source": [
    "import matplotlib.pyplot as plt\n",
    "import numpy as np\n",
    "\n",
    "datafile = np.loadtxt('machine-learning-ex2/ex2/ex2data1.txt', delimiter=',')\n",
    "\n",
    "print(\"The shape of the data is: {}\".format(datafile.shape))"
   ]
  },
  {
   "cell_type": "code",
   "execution_count": 34,
   "metadata": {
    "collapsed": true
   },
   "outputs": [],
   "source": [
    "X = datafile[:, :2]\n",
    "y = datafile[:, 2]\n",
    "m = y.shape[0]"
   ]
  },
  {
   "cell_type": "code",
   "execution_count": 35,
   "metadata": {},
   "outputs": [
    {
     "name": "stdout",
     "output_type": "stream",
     "text": [
      "(100, 2)\n",
      "(100,)\n",
      "[[34.62365962 78.02469282]\n",
      " [30.28671077 43.89499752]\n",
      " [35.84740877 72.90219803]\n",
      " [60.18259939 86.3085521 ]\n",
      " [79.03273605 75.34437644]]\n",
      "[0. 0. 0. 1. 1.]\n"
     ]
    }
   ],
   "source": [
    "print(X.shape)\n",
    "print(y.shape)\n",
    "\n",
    "print(X[:5])\n",
    "print(y[:5])"
   ]
  },
  {
   "cell_type": "code",
   "execution_count": 36,
   "metadata": {},
   "outputs": [
    {
     "data": {
      "image/png": "[encoded data removed]",
      "text/plain": [
       "<matplotlib.figure.Figure at 0x11027b450>"
      ]
     },
     "metadata": {},
     "output_type": "display_data"
    }
   ],
   "source": [
    "# plot training data, showing exam scores that were admitted and not admitted\n",
    "plt.scatter(X[(y==1), 0], X[(y==1), 1], marker='x')\n",
    "plt.scatter(X[(y==0), 0], X[(y==0), 1], marker='o')\n",
    "plt.ylabel(\"Exam 2 Score\")\n",
    "plt.xlabel(\"Exam 1 Score\")\n",
    "plt.legend([\"Admitted\", \"Not Admitted\"])\n",
    "plt.show()"
   ]
  },
  {
   "cell_type": "code",
   "execution_count": 55,
   "metadata": {
    "collapsed": true
   },
   "outputs": [],
   "source": [
    "def sigmoid(z):\n",
    "    return 1.0 / (1.0 + np.exp(-z))\n",
    "\n",
    "def hypothesis(X, theta):\n",
    "    \"\"\" The output of h(x) gives the probability that y is equal to 1 given\n",
    "        x, as parameterised by theta (weights) \"\"\"\n",
    "    # note that numpy.dot automatically does the correct calculation for theta.T * X using code below\n",
    "    return sigmoid(np.dot(X, theta))\n",
    "\n",
    "def feature_normalise(X):\n",
    "    X_norm = (X - (np.mean(X, axis=0))) / np.std(X, axis = 0)\n",
    "    return X_norm"
   ]
  },
  {
   "cell_type": "code",
   "execution_count": 38,
   "metadata": {},
   "outputs": [
    {
     "data": {
      "image/png": "[encoded data removed]",
      "text/plain": [
       "<matplotlib.figure.Figure at 0x1101d0250>"
      ]
     },
     "metadata": {},
     "output_type": "display_data"
    }
   ],
   "source": [
    "tester_x = np.arange(-50, 51, 1)\n",
    "tester_y = sigmoid(tester_x)\n",
    "plt.plot(tester_x, tester_y)\n",
    "plt.ylabel(\"Sigmoid g(z)\")\n",
    "plt.xlabel(\"z\")\n",
    "plt.grid()\n",
    "plt.show()"
   ]
  },
  {
   "cell_type": "markdown",
   "metadata": {},
   "source": [
    "Notice that when z is greater than 0, g(z) is greater than 0.5. This forms our decision boundary for our binary classifier that decides whther y is 1 or 0."
   ]
  },
  {
   "cell_type": "code",
   "execution_count": 56,
   "metadata": {},
   "outputs": [
    {
     "name": "stdout",
     "output_type": "stream",
     "text": [
      "[[-1.60224763  0.63834112]\n",
      " [-1.82625564 -1.2075414 ]\n",
      " [-1.53903969  0.3612943 ]\n",
      " [-0.28210129  1.0863683 ]\n",
      " [ 0.69152826  0.49337794]\n",
      " [-1.06199728 -0.5357394 ]\n",
      " [-0.23437234  1.63818413]\n",
      " [ 0.4845113  -1.06373024]\n",
      " [ 0.53998666  1.14651105]\n",
      " [ 0.97044832 -1.22709853]]\n",
      "(100, 3)\n",
      "(3,)\n"
     ]
    }
   ],
   "source": [
    "# use standardisation on our features with zero mean and 1 std dev\n",
    "X_std = feature_normalise(X)\n",
    "\n",
    "print(X_std[:10])\n",
    "\n",
    "# add a column of 1's to the training data for the bias unit\n",
    "bias = np.ones((m, 1))\n",
    "X_std = np.column_stack((bias, X_std))\n",
    "\n",
    "print(X_std.shape)\n",
    "\n",
    "random_gen = np.random.RandomState(1)\n",
    "#theta = random_gen.normal(loc = 0.0, scale = 0.01, size =(X_std.shape[1],))\n",
    "theta = np.zeros(X_std.shape[1],)\n",
    "\n",
    "print(theta.shape)"
   ]
  },
  {
   "cell_type": "code",
   "execution_count": 40,
   "metadata": {
    "collapsed": true
   },
   "outputs": [],
   "source": [
    "def log_regression_cost(X, theta, y):\n",
    "    m = len(y)\n",
    "    hx = hypothesis(X, theta)\n",
    "    cost = (-y.dot(np.log(hx)) - ((1 - y).dot(np.log(1 - hx)))) / m\n",
    "    return cost"
   ]
  },
  {
   "cell_type": "code",
   "execution_count": 41,
   "metadata": {},
   "outputs": [
    {
     "name": "stdout",
     "output_type": "stream",
     "text": [
      "0.6931471805599451\n",
      "Expected cost from the exercise guidelines is 0.693 - Very close, although ours is more optimal due to non-zero initialised weights.\n"
     ]
    }
   ],
   "source": [
    "cost = log_regression_cost(X_std, theta, y)\n",
    "print(cost)\n",
    "print(\"Expected cost from the exercise guidelines is 0.693 - Very close, \" \n",
    "      \"although ours is more optimal due to non-zero initialised weights.\")"
   ]
  },
  {
   "cell_type": "code",
   "execution_count": 60,
   "metadata": {
    "collapsed": true
   },
   "outputs": [],
   "source": [
    "def log_regression_GD(X, y, theta, alpha, iterations):\n",
    "    J_history = []\n",
    "    m = float(len(y))\n",
    "    weights = np.copy(theta)\n",
    "    for cycle in range(iterations):\n",
    "        hx = sigmoid(np.dot(X, theta))\n",
    "        errors = (hx - y)\n",
    "        weights -= ((alpha/m) * X.T.dot(errors))\n",
    "        cost = (-y.dot(np.log(hx)) - ((1 - y).dot(np.log(1 - hx)))) / m\n",
    "        J_history.append(cost)\n",
    "    return J_history, weights"
   ]
  },
  {
   "cell_type": "code",
   "execution_count": 61,
   "metadata": {},
   "outputs": [
    {
     "name": "stdout",
     "output_type": "stream",
     "text": [
      "Weights found by gradient descent: [ 5.         14.06145677 12.5493073 ]\n",
      "\n",
      "Expected weights from Andrew Ng's R model: [-3.6303 1.1664]\n",
      "Final cost found wasL 0.69314718056\n"
     ]
    }
   ],
   "source": [
    "costs, weights = log_regression_GD(X_std, y, theta, alpha=0.01, iterations=5000)\n",
    "\n",
    "print(\"Weights found by gradient descent: {0}\".format(weights))\n",
    "\n",
    "print(\"\\nExpected weights from Andrew Ng's R model: [-3.6303 1.1664]\")\n",
    "\n",
    "print(\"Final cost found wasL {0}\".format(costs[-1]))"
   ]
  },
  {
   "cell_type": "code",
   "execution_count": 62,
   "metadata": {},
   "outputs": [
    {
     "data": {
      "image/png": "[encoded data removed]",
      "text/plain": [
       "<matplotlib.figure.Figure at 0x110066410>"
      ]
     },
     "metadata": {},
     "output_type": "display_data"
    }
   ],
   "source": [
    "plt.figure()\n",
    "plt.plot(range(1, len(costs) + 1), costs)\n",
    "plt.title(\"Logistic Regression GD Classifier\")\n",
    "plt.ylabel(\"Cost\")\n",
    "plt.xlabel(\"Training iterations (Epochs)\")\n",
    "plt.show()"
   ]
  },
  {
   "cell_type": "code",
   "execution_count": 182,
   "metadata": {},
   "outputs": [
    {
     "ename": "SyntaxError",
     "evalue": "invalid syntax (<ipython-input-182-cbaea9df9d43>, line 5)",
     "output_type": "error",
     "traceback": [
      "\u001b[0;36m  File \u001b[0;32m\"<ipython-input-182-cbaea9df9d43>\"\u001b[0;36m, line \u001b[0;32m5\u001b[0m\n\u001b[0;31m    x_2 =\u001b[0m\n\u001b[0m          ^\u001b[0m\n\u001b[0;31mSyntaxError\u001b[0m\u001b[0;31m:\u001b[0m invalid syntax\n"
     ]
    }
   ],
   "source": [
    "def plot_decision_boundary(X, y, theta):\n",
    "    plt_x = [np.min(X[:, 1]), np.max(X[:, 1])]\n",
    "    \n",
    "    x_1 = [(-theta[0] - x2) for x2 in plt_x]\n",
    "    x_2 = \n",
    "    plt_y = (-1/theta[2])*((theta[1]*plt_x) + theta[0])\n",
    "    plt.plot(plt_x, plt_y)\n",
    "    plt.legend([\"Admitted\", \"Not Admitted\", \"Decision Boundary\"])\n",
    "    plt.show()"
   ]
  },
  {
   "cell_type": "code",
   "execution_count": 183,
   "metadata": {},
   "outputs": [
    {
     "name": "stdout",
     "output_type": "stream",
     "text": [
      "[2, 90]\n",
      "[-2.296321115646955, -84.39736043654625]\n",
      "[-2.6050118403396447, -96.92781291636352]\n"
     ]
    }
   ],
   "source": [
    "# plot_decision_boundary(X_std, y, weights)\n",
    "\n",
    "plt_x = [2, 90]\n",
    "print(plt_x)\n",
    "\n",
    "x_1 = [((-weights[0] - (weights[2]*x2))/weights[1]) for x2 in plt_x]\n",
    "print(x_1)\n",
    "\n",
    "x_2 = [((-weights[0] - (weights[1]*x1))/weights[2]) for x1 in plt_x]\n",
    "print(x_2)"
   ]
  },
  {
   "cell_type": "code",
   "execution_count": 63,
   "metadata": {
    "collapsed": true
   },
   "outputs": [],
   "source": [
    "def predict_probability(X, theta):\n",
    "    return sigmoid(np.dot(X, theta))"
   ]
  },
  {
   "cell_type": "code",
   "execution_count": 64,
   "metadata": {},
   "outputs": [
    {
     "name": "stdout",
     "output_type": "stream",
     "text": [
      "[[25.5435476 40.24243  ]\n",
      " [15.73235   25.46477  ]]\n",
      "[[ 1.  1.]\n",
      " [-1. -1.]]\n",
      "[[ 1.  1.  1.]\n",
      " [ 1. -1. -1.]]\n",
      "[1.00000000e+00 4.11684407e-10]\n"
     ]
    }
   ],
   "source": [
    "X_predict = np.array([[25.5435476, 40.24243],\n",
    "                      [15.73235, 25.46477]])\n",
    "print(X_predict)\n",
    "\n",
    "pred_norm = (X_predict - (np.mean(X_predict, axis=0))) / np.std(X_predict, axis = 0)\n",
    "\n",
    "print(pred_norm)\n",
    "\n",
    "# add a column of 1's to the predictions for the bias unit\n",
    "bias = np.ones((2, 1))\n",
    "X_pred_std = np.column_stack((bias, pred_norm))\n",
    "\n",
    "print(X_pred_std)\n",
    "\n",
    "predict_probability = sigmoid(np.dot(X_pred_std, weights))\n",
    "\n",
    "print(predict_probability)"
   ]
  },
  {
   "cell_type": "code",
   "execution_count": null,
   "metadata": {
    "collapsed": true
   },
   "outputs": [],
   "source": []
  }
 ],
 "metadata": {
  "kernelspec": {
   "display_name": "Python 2",
   "language": "python",
   "name": "python2"
  },
  "language_info": {
   "codemirror_mode": {
    "name": "ipython",
    "version": 2
   },
   "file_extension": ".py",
   "mimetype": "text/x-python",
   "name": "python",
   "nbconvert_exporter": "python",
   "pygments_lexer": "ipython2",
   "version": "2.7.13"
  }
 },
 "nbformat": 4,
 "nbformat_minor": 2
}
